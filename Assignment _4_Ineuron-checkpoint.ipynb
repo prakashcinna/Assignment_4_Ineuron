{
 "cells": [
  {
   "cell_type": "markdown",
   "id": "377ac26e",
   "metadata": {},
   "source": [
    "## Write a Python Program(with class concepts) to find the area of the triangle using the below formula.\n",
    "### area = (s*(s-a)*(s-b)*(s-c)) ** 0.5\n",
    "#### Function to take the length of the sides of triangle from user should be defined in the parent class and function to calculate the area should be defined in subclass."
   ]
  },
  {
   "cell_type": "code",
   "execution_count": null,
   "id": "70dbbf6e",
   "metadata": {},
   "outputs": [],
   "source": [
    "class triangle:\n",
    "    def __init__(self):\n",
    "        self.a=float(input('Enter side a in cm= '))\n",
    "        self.b=float(input('Enter side b in cm= '))\n",
    "        self.c=float(input('Enter side c in cm= '))\n",
    "class Area(triangle):\n",
    "    def area(self):\n",
    "        s=(self.a+self.b+self.c) / 2\n",
    "        area=(s * (s-self.a)* (s-self.b) *(s-self.c)) ** 0.5\n",
    "        print('The area of the triangle is',area,'cm\\u00b2')"
   ]
  },
  {
   "cell_type": "code",
   "execution_count": null,
   "id": "a12a5f3a",
   "metadata": {},
   "outputs": [],
   "source": [
    "area_of_triangle=Area()\n",
    "area_of_triangle.area()"
   ]
  },
  {
   "cell_type": "markdown",
   "id": "1ef24467",
   "metadata": {},
   "source": [
    "### Write a function filter_long_words() that takes a list of words and an integer n and returns the list of words that are longer than n."
   ]
  },
  {
   "cell_type": "code",
   "execution_count": null,
   "id": "eb216c70",
   "metadata": {},
   "outputs": [],
   "source": [
    "def filter_long_words(words, n):\n",
    "    l = list()\n",
    "    for i in words:\n",
    "        if len(i) > n:\n",
    "            l.append(i)\n",
    "    print(f\"Longest words are: {l}\")"
   ]
  },
  {
   "cell_type": "code",
   "execution_count": null,
   "id": "1ee61191",
   "metadata": {},
   "outputs": [],
   "source": [
    "lst = [\"abcd\", \"sun\", \"moon\", \"jupyter\", \"python\", \"science\", \"spyder\"]\n",
    "filter_long_words(lst, 5)"
   ]
  },
  {
   "cell_type": "markdown",
   "id": "0c0f5164",
   "metadata": {},
   "source": [
    "## Write a Python program using function concept that maps list of words into a list of integers representing the lengths of the corresponding words."
   ]
  },
  {
   "cell_type": "code",
   "execution_count": null,
   "id": "cc147c54",
   "metadata": {},
   "outputs": [],
   "source": [
    "def word_len(words):\n",
    "    return len(words)"
   ]
  },
  {
   "cell_type": "code",
   "execution_count": null,
   "id": "fe68b797",
   "metadata": {},
   "outputs": [],
   "source": [
    "list_1 = ['sun', 'moon', 'python','jupyter']\n",
    "map_result = map(word_len, list_1)"
   ]
  },
  {
   "cell_type": "code",
   "execution_count": null,
   "id": "66182897",
   "metadata": {},
   "outputs": [],
   "source": [
    "list(map_result)"
   ]
  },
  {
   "cell_type": "markdown",
   "id": "1ad5bfc8",
   "metadata": {},
   "source": [
    "## Write a Python function which takes a character (i.e. a string of length 1) and returns True if it is a vowel, False otherwise."
   ]
  },
  {
   "cell_type": "code",
   "execution_count": null,
   "id": "fe28520d",
   "metadata": {},
   "outputs": [],
   "source": [
    "def vowel(letter):\n",
    "    if letter == \"a\" or letter == \"e\" or letter == \"i\" or letter == \"o\" or letter == \"u\":\n",
    "        return True\n",
    "    else:\n",
    "        return False"
   ]
  },
  {
   "cell_type": "code",
   "execution_count": null,
   "id": "0d338ef6",
   "metadata": {},
   "outputs": [],
   "source": [
    "vowel(input(\"Enter the letter you want to check:>>> \"))"
   ]
  },
  {
   "cell_type": "code",
   "execution_count": null,
   "id": "cc4eeb53",
   "metadata": {},
   "outputs": [],
   "source": []
  }
 ],
 "metadata": {
  "kernelspec": {
   "display_name": "Python 3",
   "language": "python",
   "name": "python3"
  },
  "language_info": {
   "codemirror_mode": {
    "name": "ipython",
    "version": 3
   },
   "file_extension": ".py",
   "mimetype": "text/x-python",
   "name": "python",
   "nbconvert_exporter": "python",
   "pygments_lexer": "ipython3",
   "version": "3.8.5"
  }
 },
 "nbformat": 4,
 "nbformat_minor": 5
}
