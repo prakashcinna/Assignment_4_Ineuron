{
 "cells": [
  {
   "cell_type": "markdown",
   "id": "8cec1ea3",
   "metadata": {},
   "source": [
    "### 1. Write a function to compute 5/0 and use try/except to catch the exceptions."
   ]
  },
  {
   "cell_type": "code",
   "execution_count": null,
   "id": "4325fe9e",
   "metadata": {},
   "outputs": [],
   "source": [
    "def HandlingExecption():\n",
    "    try:\n",
    "        x = 5 / 0\n",
    "    except ZeroDivisionError:\n",
    "        return f\"Gives infinity call!\""
   ]
  },
  {
   "cell_type": "code",
   "execution_count": null,
   "id": "e4360654",
   "metadata": {},
   "outputs": [],
   "source": [
    "HandlingExecption()"
   ]
  },
  {
   "cell_type": "markdown",
   "id": "60303fac",
   "metadata": {},
   "source": [
    "#### Implement a Python program to generate all sentences where subject is in [\"Americans\", \"Indians\"] and verb is in [\"Play\", \"watch\"] and the object is in [\"Baseball\",\"cricket\"]."
   ]
  },
  {
   "cell_type": "code",
   "execution_count": null,
   "id": "56672efd",
   "metadata": {},
   "outputs": [],
   "source": [
    "subjects = [\"Americans\",\"Indians\"]\n",
    "verbs = [\"play\",\"watch\"]\n",
    "objects = [\"Baseball\",\"Cricket\"]\n",
    "\n",
    "Concat_sentence = [s + \" \" + v + \" \" + o for s in subjects for v in verbs for o in objects] ## conatenate "
   ]
  },
  {
   "cell_type": "code",
   "execution_count": null,
   "id": "1a1efa89",
   "metadata": {},
   "outputs": [],
   "source": [
    "for i in sentence: ## looping to print sentence \n",
    "    print(i)"
   ]
  }
 ],
 "metadata": {
  "kernelspec": {
   "display_name": "Python 3",
   "language": "python",
   "name": "python3"
  },
  "language_info": {
   "codemirror_mode": {
    "name": "ipython",
    "version": 3
   },
   "file_extension": ".py",
   "mimetype": "text/x-python",
   "name": "python",
   "nbconvert_exporter": "python",
   "pygments_lexer": "ipython3",
   "version": "3.8.5"
  }
 },
 "nbformat": 4,
 "nbformat_minor": 5
}
